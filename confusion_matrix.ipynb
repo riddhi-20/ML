{
  "nbformat": 4,
  "nbformat_minor": 0,
  "metadata": {
    "colab": {
      "provenance": []
    },
    "kernelspec": {
      "name": "python3",
      "display_name": "Python 3"
    },
    "language_info": {
      "name": "python"
    }
  },
  "cells": [
    {
      "cell_type": "code",
      "execution_count": null,
      "metadata": {
        "colab": {
          "base_uri": "https://localhost:8080/"
        },
        "id": "rZAuEuqP-PIR",
        "outputId": "d9fb31e6-2e38-40ab-ae03-6eb70952780d"
      },
      "outputs": [
        {
          "output_type": "stream",
          "name": "stdout",
          "text": [
            "confusion matrix\n",
            "[[5 1 0]\n",
            " [1 4 1]\n",
            " [0 0 0]]\n"
          ]
        },
        {
          "output_type": "stream",
          "name": "stderr",
          "text": [
            "/usr/local/lib/python3.7/dist-packages/sklearn/metrics/_classification.py:1318: UndefinedMetricWarning: Recall and F-score are ill-defined and being set to 0.0 in labels with no true samples. Use `zero_division` parameter to control this behavior.\n",
            "  _warn_prf(average, modifier, msg_start, len(result))\n",
            "/usr/local/lib/python3.7/dist-packages/sklearn/metrics/_classification.py:1318: UndefinedMetricWarning: Recall and F-score are ill-defined and being set to 0.0 in labels with no true samples. Use `zero_division` parameter to control this behavior.\n",
            "  _warn_prf(average, modifier, msg_start, len(result))\n",
            "/usr/local/lib/python3.7/dist-packages/sklearn/metrics/_classification.py:1318: UndefinedMetricWarning: Recall and F-score are ill-defined and being set to 0.0 in labels with no true samples. Use `zero_division` parameter to control this behavior.\n",
            "  _warn_prf(average, modifier, msg_start, len(result))\n"
          ]
        }
      ],
      "source": [
        "from sklearn.metrics import confusion_matrix\n",
        "from sklearn.metrics import classification_report\n",
        "\n",
        "a = [0,1,0,1,1,1,0,0,1,0,0,1]\n",
        "b = [1,2,0,1,1,1,0,0,0,0,0,1]\n",
        "matrix = confusion_matrix(a,b)\n",
        "cl_report = classification_report(a,b)\n",
        "\n",
        "print(\"confusion matrix\")\n",
        "print(matrix)"
      ]
    },
    {
      "cell_type": "code",
      "source": [
        "print(cl_report)"
      ],
      "metadata": {
        "colab": {
          "base_uri": "https://localhost:8080/"
        },
        "id": "pYEVbFZ2_Ij6",
        "outputId": "1230031d-ec4d-4846-cf21-3705f00c9165"
      },
      "execution_count": null,
      "outputs": [
        {
          "output_type": "stream",
          "name": "stdout",
          "text": [
            "              precision    recall  f1-score   support\n",
            "\n",
            "           0       0.83      0.83      0.83         6\n",
            "           1       0.80      0.67      0.73         6\n",
            "           2       0.00      0.00      0.00         0\n",
            "\n",
            "    accuracy                           0.75        12\n",
            "   macro avg       0.54      0.50      0.52        12\n",
            "weighted avg       0.82      0.75      0.78        12\n",
            "\n"
          ]
        }
      ]
    }
  ]
}