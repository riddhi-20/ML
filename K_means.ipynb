{
  "nbformat": 4,
  "nbformat_minor": 0,
  "metadata": {
    "colab": {
      "provenance": [],
      "toc_visible": true,
      "collapsed_sections": []
    },
    "kernelspec": {
      "name": "python3",
      "display_name": "Python 3"
    },
    "language_info": {
      "name": "python"
    }
  },
  "cells": [
    {
      "cell_type": "code",
      "execution_count": null,
      "metadata": {
        "colab": {
          "base_uri": "https://localhost:8080/",
          "height": 409
        },
        "id": "-Byoi6ZwDAeD",
        "outputId": "e3258dad-856c-4c68-e39a-9e5647a68e1c"
      },
      "outputs": [
        {
          "output_type": "stream",
          "name": "stdout",
          "text": [
            "['DESCR', 'data', 'data_module', 'feature_names', 'filename', 'frame', 'target', 'target_names']\n",
            "['sepal length (cm)', 'sepal width (cm)', 'petal length (cm)', 'petal width (cm)']\n",
            "[0 0 0 0 0 0 0 0 0 0 0 0 0 0 0 0 0 0 0 0 0 0 0 0 0 0 0 0 0 0 0 0 0 0 0 0 0\n",
            " 0 0 0 0 0 0 0 0 0 0 0 0 0 1 1 1 1 1 1 1 1 1 1 1 1 1 1 1 1 1 1 1 1 1 1 1 1\n",
            " 1 1 1 1 1 1 1 1 1 1 1 1 1 1 1 1 1 1 1 1 1 1 1 1 1 1 2 2 2 2 2 2 2 2 2 2 2\n",
            " 2 2 2 2 2 2 2 2 2 2 2 2 2 2 2 2 2 2 2 2 2 2 2 2 2 2 2 2 2 2 2 2 2 2 2 2 2\n",
            " 2 2]\n",
            "['setosa' 'versicolor' 'virginica']\n"
          ]
        },
        {
          "output_type": "display_data",
          "data": {
            "text/plain": [
              "<Figure size 432x288 with 1 Axes>"
            ],
            "image/png": "[encoded data removed]"
          },
          "metadata": {
            "needs_background": "light"
          }
        }
      ],
      "source": [
        "# Importing Modules\n",
        "from sklearn import datasets\n",
        "import matplotlib.pyplot as plt\n",
        "# Loading dataset\n",
        "iris_df = datasets.load_iris()\n",
        "# Available methods on dataset\n",
        "print(dir(iris_df))\n",
        "# Features\n",
        "print(iris_df.feature_names)\n",
        "# Targets\n",
        "print(iris_df.target)\n",
        "# Target Names\n",
        "print(iris_df.target_names)\n",
        "label = {0: 'red', 1: 'blue', 2: 'green'}\n",
        "# Dataset Slicing\n",
        "x_axis = iris_df.data[:, 0]  # Sepal Length\n",
        "y_axis = iris_df.data[:, 2]  # Sepal Width\n",
        "# Plotting\n",
        "plt.scatter(x_axis, y_axis, c=iris_df.target)\n",
        "plt.show()"
      ]
    },
    {
      "cell_type": "markdown",
      "source": [
        "K-means"
      ],
      "metadata": {
        "id": "CBi5mGlvDW72"
      }
    },
    {
      "cell_type": "code",
      "source": [
        "# Importing Modules\n",
        "from sklearn import datasets\n",
        "from sklearn.cluster import KMeans\n",
        "\n",
        "# Loading dataset\n",
        "iris_df = datasets.load_iris()\n",
        "\n",
        "# Declaring Model\n",
        "model = KMeans(n_clusters=3)\n",
        "\n",
        "# Fitting Model\n",
        "model.fit(iris_df.data)\n",
        "\n",
        "# Predicitng a single input\n",
        "predicted_label = model.predict([[7.2, 3.5, 0.8, 1.6]])\n",
        "\n",
        "# Prediction on the entire data\n",
        "all_predictions = model.predict(iris_df.data)\n",
        "\n",
        "# Printing Predictions\n",
        "print(predicted_label)\n",
        "print(all_predictions)"
      ],
      "metadata": {
        "colab": {
          "base_uri": "https://localhost:8080/"
        },
        "id": "LBS5KPCGDX_a",
        "outputId": "cd593441-c07b-4c1a-a3dd-9c0e44326346"
      },
      "execution_count": null,
      "outputs": [
        {
          "output_type": "stream",
          "name": "stdout",
          "text": [
            "[1]\n",
            "[1 1 1 1 1 1 1 1 1 1 1 1 1 1 1 1 1 1 1 1 1 1 1 1 1 1 1 1 1 1 1 1 1 1 1 1 1\n",
            " 1 1 1 1 1 1 1 1 1 1 1 1 1 2 2 0 2 2 2 2 2 2 2 2 2 2 2 2 2 2 2 2 2 2 2 2 2\n",
            " 2 2 2 0 2 2 2 2 2 2 2 2 2 2 2 2 2 2 2 2 2 2 2 2 2 2 0 2 0 0 0 0 2 0 0 0 0\n",
            " 0 0 2 2 0 0 0 0 2 0 2 0 2 0 0 2 2 0 0 0 0 0 2 0 0 0 0 2 0 0 0 2 0 0 0 2 0\n",
            " 0 2]\n"
          ]
        }
      ]
    },
    {
      "cell_type": "markdown",
      "source": [
        "# New section"
      ],
      "metadata": {
        "id": "pURPgWKUEk9R"
      }
    },
    {
      "cell_type": "code",
      "source": [
        "import matplotlib.pyplot as plt\n",
        "from matplotlib import style\n",
        "import numpy as np\n",
        "from sklearn.cluster import KMeans\n",
        "style.use('ggplot')\n",
        "X = np.array([[1, 2],\n",
        "              [1.5, 1.8],\n",
        "              [5, 8],\n",
        "              [8, 8],\n",
        "              [6, 7],\n",
        "              [1, 0.6],\n",
        "              [9, 11],\n",
        "              [3, 4],\n",
        "              [4, 5],\n",
        "              [5, 6],\n",
        "              [8.5, 9]])\n",
        "clf = KMeans(n_clusters=2)\n",
        "clf.fit(X)\n",
        "\n",
        "centroids = clf.cluster_centers_\n",
        "labels = clf.labels_\n",
        "colors = [\"g.\",\"r.\",\"c.\",\"y.\"]\n",
        "for i in range(len(X)):\n",
        "    plt.plot(X[i][0], X[i][1], colors[labels[i]], markersize = 10)\n",
        "plt.scatter(centroids[:, 0],centroids[:, 1], marker = \"x\", s=150, linewidths = 5, zorder = 10)\n",
        "plt.show()"
      ],
      "metadata": {
        "colab": {
          "base_uri": "https://localhost:8080/",
          "height": 265
        },
        "id": "VJk_enJjEluU",
        "outputId": "13d9a1b6-e600-4574-a781-9b285299a6a8"
      },
      "execution_count": null,
      "outputs": [
        {
          "output_type": "display_data",
          "data": {
            "text/plain": [
              "<Figure size 432x288 with 1 Axes>"
            ],
            "image/png": "[encoded data removed]"
          },
          "metadata": {}
        }
      ]
    }
  ]
}