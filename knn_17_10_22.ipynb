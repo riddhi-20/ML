{
  "nbformat": 4,
  "nbformat_minor": 0,
  "metadata": {
    "colab": {
      "provenance": [],
      "collapsed_sections": []
    },
    "kernelspec": {
      "name": "python3",
      "display_name": "Python 3"
    },
    "language_info": {
      "name": "python"
    }
  },
  "cells": [
    {
      "cell_type": "code",
      "execution_count": null,
      "metadata": {
        "colab": {
          "base_uri": "https://localhost:8080/",
          "height": 265
        },
        "id": "xHVeYSDvJZ_5",
        "outputId": "b196b1c0-ee8d-42f4-d4b5-712beae10e4e"
      },
      "outputs": [
        {
          "output_type": "display_data",
          "data": {
            "text/plain": [
              "<Figure size 432x288 with 1 Axes>"
            ],
            "image/png": "[encoded data removed]"
          },
          "metadata": {
            "needs_background": "light"
          }
        }
      ],
      "source": [
        "import matplotlib.pyplot as plt  \n",
        "\n",
        "x = [1, 2, 5, 7, 9, 10, 13, 14, 16, 19, 23, 25, 26, 28, 30]\n",
        "y = [21, 19, 24, 17, 18, 25, 22, 15, 10, 20, 11, 9, 13, 7, 14]\n",
        "classes = [0, 0, 1, 0, 0, 1, 1, 0, 1, 0, 1, 0, 1, 1, 0]\n",
        "plt.scatter(x, y, c=classes)\n",
        "plt.show()"
      ]
    },
    {
      "cell_type": "code",
      "source": [],
      "metadata": {
        "id": "ck2Lger_6CxG"
      },
      "execution_count": null,
      "outputs": []
    },
    {
      "cell_type": "markdown",
      "source": [
        "# New Section"
      ],
      "metadata": {
        "id": "GOqUqMp8Zd6e"
      }
    },
    {
      "cell_type": "code",
      "source": [
        "#fit knn with k=1\n",
        "from sklearn.neighbors import KNeighborsClassifier\n",
        "data = list(zip(x, y))\n",
        "knn = KNeighborsClassifier(n_neighbors=1)\n",
        "knn.fit(data, classes)\n",
        "KNeighborsClassifier(n_neighbors=1)\n"
      ],
      "metadata": {
        "colab": {
          "base_uri": "https://localhost:8080/"
        },
        "id": "9QOk5fA2NBdc",
        "outputId": "22c48fc8-db0d-4170-f4dc-9cd96853aa8f"
      },
      "execution_count": null,
      "outputs": [
        {
          "output_type": "execute_result",
          "data": {
            "text/plain": [
              "KNeighborsClassifier(n_neighbors=1)"
            ]
          },
          "metadata": {},
          "execution_count": 36
        }
      ]
    },
    {
      "cell_type": "code",
      "source": [
        "#take a new datapoint and classify it\n",
        "test_new_x=5\n",
        "test_new_y=24\n",
        "new_point=[(test_new_x, test_new_y)]\n",
        "prediction = knn.predict(new_point)\n",
        "print(prediction)"
      ],
      "metadata": {
        "colab": {
          "base_uri": "https://localhost:8080/"
        },
        "id": "-FhYYKxTRCja",
        "outputId": "1b74a0a3-628a-47e6-eb33-ec602bfab324"
      },
      "execution_count": null,
      "outputs": [
        {
          "output_type": "stream",
          "name": "stdout",
          "text": [
            "[1]\n"
          ]
        }
      ]
    },
    {
      "cell_type": "code",
      "source": [
        "import matplotlib.pyplot as plt  \n",
        "\n",
        "x = [1, 2, 5, 7, 9, 10, 13]\n",
        "y = [21, 19, 24, 17, 18, 25, 22]\n",
        "classes = [0, 0, 1, 0, 0, 1, 1]\n",
        "plt.scatter(x, y, c=classes)\n",
        "plt.show()"
      ],
      "metadata": {
        "id": "0axj3pQaS41p",
        "colab": {
          "base_uri": "https://localhost:8080/",
          "height": 265
        },
        "outputId": "66dd30ab-a912-454a-83cc-de8b0c8dbc82"
      },
      "execution_count": null,
      "outputs": [
        {
          "output_type": "display_data",
          "data": {
            "text/plain": [
              "<Figure size 432x288 with 1 Axes>"
            ],
            "image/png": "[encoded data removed]"
          },
          "metadata": {
            "needs_background": "light"
          }
        }
      ]
    },
    {
      "cell_type": "code",
      "source": [
        "#fit knn with k=1\n",
        "from sklearn.neighbors import KNeighborsClassifier\n",
        "data = list(zip(x, y))\n",
        "knn = KNeighborsClassifier(n_neighbors=1)\n",
        "knn.fit(data, classes)\n",
        "KNeighborsClassifier(n_neighbors=1)"
      ],
      "metadata": {
        "colab": {
          "base_uri": "https://localhost:8080/"
        },
        "id": "YDr_rxqg0W4K",
        "outputId": "6b6c84f8-8b0d-4edc-ba4f-f29fd43f7b89"
      },
      "execution_count": null,
      "outputs": [
        {
          "output_type": "execute_result",
          "data": {
            "text/plain": [
              "KNeighborsClassifier(n_neighbors=1)"
            ]
          },
          "metadata": {},
          "execution_count": 2
        }
      ]
    },
    {
      "cell_type": "code",
      "source": [
        "#take a new datapoint and classify it\n",
        "test_new_x=2\n",
        "test_new_y=19\n",
        "new_point=[(test_new_x, test_new_y)]\n",
        "prediction = knn.predict(new_point)\n",
        "print(prediction)"
      ],
      "metadata": {
        "colab": {
          "base_uri": "https://localhost:8080/"
        },
        "id": "Q6vputlX0eqN",
        "outputId": "5f8480d8-14d3-485b-dff0-b3ba9b613b9b"
      },
      "execution_count": null,
      "outputs": [
        {
          "output_type": "stream",
          "name": "stdout",
          "text": [
            "[0]\n"
          ]
        }
      ]
    },
    {
      "cell_type": "markdown",
      "source": [
        "# New section"
      ],
      "metadata": {
        "id": "yqIwCpIk1J_i"
      }
    },
    {
      "cell_type": "code",
      "source": [
        "import matplotlib.pyplot as plt  \n",
        "\n",
        "x = [1, 2, 5, 7, 9, 10, 13, 14, 16, 19, 23]\n",
        "y = [21, 19, 24, 17, 18, 25, 22, 15, 10, 20, 11]\n",
        "classes = [0, 0, 1, 0, 0, 1, 1, 0, 1, 0, 1]\n",
        "plt.scatter(x, y, c=classes)\n",
        "plt.show()"
      ],
      "metadata": {
        "colab": {
          "base_uri": "https://localhost:8080/",
          "height": 265
        },
        "id": "dSPJbLaI1K0P",
        "outputId": "5ac1b871-5b54-4361-e7d0-effc8ae9f99a"
      },
      "execution_count": null,
      "outputs": [
        {
          "output_type": "display_data",
          "data": {
            "text/plain": [
              "<Figure size 432x288 with 1 Axes>"
            ],
            "image/png": "[encoded data removed]"
          },
          "metadata": {
            "needs_background": "light"
          }
        }
      ]
    },
    {
      "cell_type": "code",
      "source": [
        "#fit knn with k=1\n",
        "from sklearn.neighbors import KNeighborsClassifier\n",
        "data = list(zip(x, y))\n",
        "knn = KNeighborsClassifier(n_neighbors=1)\n",
        "knn.fit(data, classes)\n",
        "KNeighborsClassifier(n_neighbors=1)"
      ],
      "metadata": {
        "colab": {
          "base_uri": "https://localhost:8080/"
        },
        "id": "mHoDbART1OY-",
        "outputId": "74803435-01e9-468d-a0f8-269865e822bd"
      },
      "execution_count": null,
      "outputs": [
        {
          "output_type": "execute_result",
          "data": {
            "text/plain": [
              "KNeighborsClassifier(n_neighbors=1)"
            ]
          },
          "metadata": {},
          "execution_count": 10
        }
      ]
    },
    {
      "cell_type": "code",
      "source": [
        "#take a new datapoint and classify it\n",
        "test_new_x=5\n",
        "test_new_y=24\n",
        "new_point=[(test_new_x, test_new_y)]\n",
        "prediction = knn.predict(new_point)\n",
        "print(prediction)"
      ],
      "metadata": {
        "colab": {
          "base_uri": "https://localhost:8080/"
        },
        "id": "wyHlj_9i1Vrn",
        "outputId": "ef7a6c3f-5945-4b2c-8178-d782fae4fb61"
      },
      "execution_count": null,
      "outputs": [
        {
          "output_type": "stream",
          "name": "stdout",
          "text": [
            "[1]\n"
          ]
        }
      ]
    },
    {
      "cell_type": "code",
      "source": [
        "from sklearn.naive_bayes import GaussianNB\n",
        "\n",
        "#naive bayes\n",
        "nb_model=GaussianNB()\n",
        "nb_mod=nb_model.fit(data,c)\n",
        "predictions=nb_mod.predict(test_data)\n",
        "\n",
        "plt.scatter(x_test,y_test,c=predictions)\n",
        "plt.show()"
      ],
      "metadata": {
        "id": "-kkC0_x56Etg",
        "outputId": "cadcf19b-ace4-4101-b92e-fa5b2f3eaba2",
        "colab": {
          "base_uri": "https://localhost:8080/",
          "height": 276
        }
      },
      "execution_count": null,
      "outputs": [
        {
          "output_type": "error",
          "ename": "NameError",
          "evalue": "ignored",
          "traceback": [
            "\u001b[0;31m---------------------------------------------------------------------------\u001b[0m",
            "\u001b[0;31mNameError\u001b[0m                                 Traceback (most recent call last)",
            "\u001b[0;32m<ipython-input-12-f76c6b904636>\u001b[0m in \u001b[0;36m<module>\u001b[0;34m\u001b[0m\n\u001b[1;32m      3\u001b[0m \u001b[0;31m#naive bayes\u001b[0m\u001b[0;34m\u001b[0m\u001b[0;34m\u001b[0m\u001b[0;34m\u001b[0m\u001b[0m\n\u001b[1;32m      4\u001b[0m \u001b[0mnb_model\u001b[0m\u001b[0;34m=\u001b[0m\u001b[0mGaussianNB\u001b[0m\u001b[0;34m(\u001b[0m\u001b[0;34m)\u001b[0m\u001b[0;34m\u001b[0m\u001b[0;34m\u001b[0m\u001b[0m\n\u001b[0;32m----> 5\u001b[0;31m \u001b[0mnb_mod\u001b[0m\u001b[0;34m=\u001b[0m\u001b[0mnb_model\u001b[0m\u001b[0;34m.\u001b[0m\u001b[0mfit\u001b[0m\u001b[0;34m(\u001b[0m\u001b[0mdata\u001b[0m\u001b[0;34m,\u001b[0m\u001b[0mc\u001b[0m\u001b[0;34m)\u001b[0m\u001b[0;34m\u001b[0m\u001b[0;34m\u001b[0m\u001b[0m\n\u001b[0m\u001b[1;32m      6\u001b[0m \u001b[0mpredictions\u001b[0m\u001b[0;34m=\u001b[0m\u001b[0mnb_mod\u001b[0m\u001b[0;34m.\u001b[0m\u001b[0mpredict\u001b[0m\u001b[0;34m(\u001b[0m\u001b[0mtest_data\u001b[0m\u001b[0;34m)\u001b[0m\u001b[0;34m\u001b[0m\u001b[0;34m\u001b[0m\u001b[0m\n\u001b[1;32m      7\u001b[0m \u001b[0;34m\u001b[0m\u001b[0m\n",
            "\u001b[0;31mNameError\u001b[0m: name 'c' is not defined"
          ]
        }
      ]
    }
  ]
}