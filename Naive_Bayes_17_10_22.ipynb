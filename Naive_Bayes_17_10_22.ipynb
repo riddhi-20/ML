{
  "nbformat": 4,
  "nbformat_minor": 0,
  "metadata": {
    "colab": {
      "provenance": []
    },
    "kernelspec": {
      "name": "python3",
      "display_name": "Python 3"
    },
    "language_info": {
      "name": "python"
    }
  },
  "cells": [
    {
      "cell_type": "code",
      "execution_count": null,
      "metadata": {
        "id": "PROP5BlQaHyU",
        "colab": {
          "base_uri": "https://localhost:8080/"
        },
        "outputId": "edd66857-dd55-488e-9988-7e2204888f8d"
      },
      "outputs": [
        {
          "output_type": "stream",
          "name": "stdout",
          "text": [
            "0\n",
            "[3.393533211, 2.331273381, 0]\n",
            "[3.110073483, 1.781539638, 0]\n",
            "[1.343808831, 3.368360954, 0]\n",
            "[3.582294042, 4.67917911, 0]\n",
            "[2.280362439, 2.866990263, 0]\n",
            "1\n",
            "[7.423436942, 4.696522875, 1]\n",
            "[5.745051997, 3.533989803, 1]\n",
            "[9.172168622, 2.511101045, 1]\n",
            "[7.792783481, 3.424088941, 1]\n",
            "[7.939820817, 0.791637231, 1]\n"
          ]
        }
      ],
      "source": [
        "def separate_by_class(dataset):\n",
        "\tseparated = dict()\n",
        "\tfor i in range(len(dataset)):\n",
        "\t\tvector = dataset[i]\n",
        "\t\tclass_value = vector[-1]\n",
        "\t\tif (class_value not in separated):\n",
        "\t\t\tseparated[class_value] = list()\n",
        "\t\tseparated[class_value].append(vector)\n",
        "\treturn separated\n",
        " \n",
        "# Test separating data by class\n",
        "dataset = [[3.393533211,2.331273381,0],\n",
        "\t[3.110073483,1.781539638,0],\n",
        "\t[1.343808831,3.368360954,0],\n",
        "\t[3.582294042,4.67917911,0],\n",
        "\t[2.280362439,2.866990263,0],\n",
        "\t[7.423436942,4.696522875,1],\n",
        "\t[5.745051997,3.533989803,1],\n",
        "\t[9.172168622,2.511101045,1],\n",
        "\t[7.792783481,3.424088941,1],\n",
        "\t[7.939820817,0.791637231,1]]\n",
        "separated = separate_by_class(dataset)\n",
        "for label in separated:\n",
        "\tprint(label)\n",
        "\tfor row in separated[label]:\n",
        "\t\tprint(row)"
      ]
    }
  ]
}